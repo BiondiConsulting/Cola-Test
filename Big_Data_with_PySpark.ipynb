{
  "nbformat": 4,
  "nbformat_minor": 0,
  "metadata": {
    "colab": {
      "name": "Big Data with PySpark.ipynb",
      "provenance": [],
      "collapsed_sections": [],
      "authorship_tag": "ABX9TyNIg2nSi+KOWM0gGqX09bgm",
      "include_colab_link": true
    },
    "kernelspec": {
      "name": "python3",
      "display_name": "Python 3"
    }
  },
  "cells": [
    {
      "cell_type": "markdown",
      "metadata": {
        "id": "view-in-github",
        "colab_type": "text"
      },
      "source": [
        "<a href=\"https://colab.research.google.com/github/BiondiConsulting/Cola-Test/blob/master/Big_Data_with_PySpark.ipynb\" target=\"_parent\"><img src=\"https://colab.research.google.com/assets/colab-badge.svg\" alt=\"Open In Colab\"/></a>"
      ]
    },
    {
      "cell_type": "code",
      "metadata": {
        "id": "sPD6bRXwC5b8",
        "colab_type": "code",
        "colab": {}
      },
      "source": [
        "import pandas as pd"
      ],
      "execution_count": 0,
      "outputs": []
    },
    {
      "cell_type": "code",
      "metadata": {
        "id": "fbFRqO_UDY2i",
        "colab_type": "code",
        "colab": {}
      },
      "source": [
        "!apt-get install openjdk-8-jdk-headless -qq > /dev/null"
      ],
      "execution_count": 0,
      "outputs": []
    },
    {
      "cell_type": "code",
      "metadata": {
        "id": "Vex6cNRfG5q3",
        "colab_type": "code",
        "colab": {}
      },
      "source": [
        "!wget -q http://apache.osuosl.org/spark/spark-2.4.5/spark-2.4.5-bin-hadoop2.7.tgz"
      ],
      "execution_count": 0,
      "outputs": []
    },
    {
      "cell_type": "code",
      "metadata": {
        "id": "M8FHMZiIHfZc",
        "colab_type": "code",
        "colab": {}
      },
      "source": [
        "!tar xf spark-2.4.5-bin-hadoop2.7.tgz\n",
        "# if an error occure here, visit this link to find the latest version of spark and replace it here and on the cell above:\n",
        "# https://downloads.apache.org/spark/\n",
        "# !tar is un unziping command"
      ],
      "execution_count": 0,
      "outputs": []
    },
    {
      "cell_type": "code",
      "metadata": {
        "id": "3LAQScs-IBwp",
        "colab_type": "code",
        "colab": {}
      },
      "source": [
        "!pip install -q findspark"
      ],
      "execution_count": 0,
      "outputs": []
    },
    {
      "cell_type": "code",
      "metadata": {
        "id": "56QJAeEjIOw_",
        "colab_type": "code",
        "colab": {}
      },
      "source": [
        "import os\n",
        "os.environ['JAVA_HOME'] = \"/usr/lib/jvm/java-8-openjdk-amd64\"\n",
        "os.environ[\"SPARK_HOME\"] = \"/content/spark-2.4.5-bin-hadoop2.7\""
      ],
      "execution_count": 0,
      "outputs": []
    },
    {
      "cell_type": "code",
      "metadata": {
        "id": "TCF3Ho-KL6WN",
        "colab_type": "code",
        "colab": {}
      },
      "source": [
        "import findspark\n",
        "findspark.init()\n",
        "from pyspark.sql import SparkSession\n",
        "spark = SparkSession.builder.master(\"local[*]\").getOrCreate()"
      ],
      "execution_count": 0,
      "outputs": []
    },
    {
      "cell_type": "code",
      "metadata": {
        "id": "Kz_UxfdqMY-f",
        "colab_type": "code",
        "colab": {}
      },
      "source": [
        "# Simple Leaner Regression model for testing the installation\n"
      ],
      "execution_count": 0,
      "outputs": []
    },
    {
      "cell_type": "code",
      "metadata": {
        "id": "m33HCzftM07R",
        "colab_type": "code",
        "colab": {}
      },
      "source": [
        "df = pd.read_html(\"https://github.com/selva86/datasets/blob/master/BostonHousing.csv\")"
      ],
      "execution_count": 0,
      "outputs": []
    },
    {
      "cell_type": "code",
      "metadata": {
        "id": "cRPfOk-4SWZU",
        "colab_type": "code",
        "colab": {
          "base_uri": "https://localhost:8080/",
          "height": 252
        },
        "outputId": "8299e17c-56dc-4a63-bbe9-d890701593f7"
      },
      "source": [
        "df"
      ],
      "execution_count": 28,
      "outputs": [
        {
          "output_type": "execute_result",
          "data": {
            "text/plain": [
              "[     Unnamed: 0     crim    zn  indus  chas  ...  tax  ptratio       b  lstat  medv\n",
              " 0           NaN  0.00632  18.0   2.31     0  ...  296     15.3  396.90   4.98  24.0\n",
              " 1           NaN  0.02731   0.0   7.07     0  ...  242     17.8  396.90   9.14  21.6\n",
              " 2           NaN  0.02729   0.0   7.07     0  ...  242     17.8  392.83   4.03  34.7\n",
              " 3           NaN  0.03237   0.0   2.18     0  ...  222     18.7  394.63   2.94  33.4\n",
              " 4           NaN  0.06905   0.0   2.18     0  ...  222     18.7  396.90   5.33  36.2\n",
              " ..          ...      ...   ...    ...   ...  ...  ...      ...     ...    ...   ...\n",
              " 501         NaN  0.06263   0.0  11.93     0  ...  273     21.0  391.99   9.67  22.4\n",
              " 502         NaN  0.04527   0.0  11.93     0  ...  273     21.0  396.90   9.08  20.6\n",
              " 503         NaN  0.06076   0.0  11.93     0  ...  273     21.0  396.90   5.64  23.9\n",
              " 504         NaN  0.10959   0.0  11.93     0  ...  273     21.0  393.45   6.48  22.0\n",
              " 505         NaN  0.04741   0.0  11.93     0  ...  273     21.0  396.90   7.88  11.9\n",
              " \n",
              " [506 rows x 15 columns]]"
            ]
          },
          "metadata": {
            "tags": []
          },
          "execution_count": 28
        }
      ]
    },
    {
      "cell_type": "code",
      "metadata": {
        "id": "48bnpqwITXTy",
        "colab_type": "code",
        "colab": {
          "base_uri": "https://localhost:8080/",
          "height": 34
        },
        "outputId": "59c57edc-ff81-4223-97a4-066c5a246364"
      },
      "source": [
        "ls"
      ],
      "execution_count": 31,
      "outputs": [
        {
          "output_type": "stream",
          "text": [
            "\u001b[0m\u001b[01;34msample_data\u001b[0m/  \u001b[01;34mspark-2.4.5-bin-hadoop2.7\u001b[0m/  spark-2.4.5-bin-hadoop2.7.tgz\n"
          ],
          "name": "stdout"
        }
      ]
    },
    {
      "cell_type": "code",
      "metadata": {
        "id": "kqnBDgHxTxTu",
        "colab_type": "code",
        "colab": {}
      },
      "source": [
        "from google.colab import files\n",
        "files.upload()"
      ],
      "execution_count": 0,
      "outputs": []
    },
    {
      "cell_type": "code",
      "metadata": {
        "id": "qUEBO09PUtss",
        "colab_type": "code",
        "colab": {
          "base_uri": "https://localhost:8080/",
          "height": 50
        },
        "outputId": "a48b1122-53ae-467c-a470-7b8bdb2e324e"
      },
      "source": [
        "ls"
      ],
      "execution_count": 33,
      "outputs": [
        {
          "output_type": "stream",
          "text": [
            "BostonHousing.csv  \u001b[0m\u001b[01;34mspark-2.4.5-bin-hadoop2.7\u001b[0m/\n",
            "\u001b[01;34msample_data\u001b[0m/       spark-2.4.5-bin-hadoop2.7.tgz\n"
          ],
          "name": "stdout"
        }
      ]
    },
    {
      "cell_type": "code",
      "metadata": {
        "id": "sB8foVZIUzXK",
        "colab_type": "code",
        "colab": {
          "base_uri": "https://localhost:8080/",
          "height": 50
        },
        "outputId": "13bcf4d4-613e-46d7-cef6-01de25687b92"
      },
      "source": [
        "ls"
      ],
      "execution_count": 35,
      "outputs": [
        {
          "output_type": "stream",
          "text": [
            "BostonHousing.csv  \u001b[0m\u001b[01;34mspark-2.4.5-bin-hadoop2.7\u001b[0m/\n",
            "\u001b[01;34msample_data\u001b[0m/       spark-2.4.5-bin-hadoop2.7.tgz\n"
          ],
          "name": "stdout"
        }
      ]
    },
    {
      "cell_type": "code",
      "metadata": {
        "id": "jqdQDyTpU_H3",
        "colab_type": "code",
        "colab": {}
      },
      "source": [
        "from pyspark.ml.feature import VectorAssembler\n",
        "from pyspark.ml.regression import LinearRegression\n",
        "\n",
        "dataset = spark.read.csv(\"BostonHousing.csv\", inferSchema=True, header=True)"
      ],
      "execution_count": 0,
      "outputs": []
    },
    {
      "cell_type": "code",
      "metadata": {
        "id": "n2RlPIlJVOKS",
        "colab_type": "code",
        "colab": {
          "base_uri": "https://localhost:8080/",
          "height": 286
        },
        "outputId": "d55f6329-f1d5-4fdd-c970-908dfde96d4c"
      },
      "source": [
        "dataset.printSchema()"
      ],
      "execution_count": 42,
      "outputs": [
        {
          "output_type": "stream",
          "text": [
            "root\n",
            " |-- crim: double (nullable = true)\n",
            " |-- zn: double (nullable = true)\n",
            " |-- indus: double (nullable = true)\n",
            " |-- chas: integer (nullable = true)\n",
            " |-- nox: double (nullable = true)\n",
            " |-- rm: double (nullable = true)\n",
            " |-- age: double (nullable = true)\n",
            " |-- dis: double (nullable = true)\n",
            " |-- rad: integer (nullable = true)\n",
            " |-- tax: integer (nullable = true)\n",
            " |-- ptratio: double (nullable = true)\n",
            " |-- b: double (nullable = true)\n",
            " |-- lstat: double (nullable = true)\n",
            " |-- medv: double (nullable = true)\n",
            "\n"
          ],
          "name": "stdout"
        }
      ]
    },
    {
      "cell_type": "code",
      "metadata": {
        "id": "rc1QYxqLWdBz",
        "colab_type": "code",
        "colab": {}
      },
      "source": [
        ""
      ],
      "execution_count": 0,
      "outputs": []
    }
  ]
}