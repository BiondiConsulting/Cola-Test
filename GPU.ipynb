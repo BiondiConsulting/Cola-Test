{
  "nbformat": 4,
  "nbformat_minor": 0,
  "metadata": {
    "colab": {
      "name": "GPU.ipynb",
      "provenance": [],
      "toc_visible": true,
      "authorship_tag": "ABX9TyMmz2cSiQQxNBq/SYTV/HzL",
      "include_colab_link": true
    },
    "kernelspec": {
      "name": "python3",
      "display_name": "Python 3"
    },
    "accelerator": "GPU"
  },
  "cells": [
    {
      "cell_type": "markdown",
      "metadata": {
        "id": "view-in-github",
        "colab_type": "text"
      },
      "source": [
        "<a href=\"https://colab.research.google.com/github/BiondiConsulting/Cola-Test/blob/master/GPU.ipynb\" target=\"_parent\"><img src=\"https://colab.research.google.com/assets/colab-badge.svg\" alt=\"Open In Colab\"/></a>"
      ]
    },
    {
      "cell_type": "code",
      "metadata": {
        "id": "3CTsXT4ozTgQ",
        "colab_type": "code",
        "colab": {}
      },
      "source": [
        "import torch"
      ],
      "execution_count": 0,
      "outputs": []
    },
    {
      "cell_type": "code",
      "metadata": {
        "id": "3O7ub-S6zrw_",
        "colab_type": "code",
        "colab": {
          "base_uri": "https://localhost:8080/",
          "height": 34
        },
        "outputId": "6c748cc6-0fe6-46bb-a2bc-d0e8a9c01704"
      },
      "source": [
        "torch.cuda.is_available()"
      ],
      "execution_count": 3,
      "outputs": [
        {
          "output_type": "execute_result",
          "data": {
            "text/plain": [
              "True"
            ]
          },
          "metadata": {
            "tags": []
          },
          "execution_count": 3
        }
      ]
    },
    {
      "cell_type": "code",
      "metadata": {
        "id": "r6sgUbqmz8dg",
        "colab_type": "code",
        "colab": {}
      },
      "source": [
        "device = torch.device('cuda')"
      ],
      "execution_count": 0,
      "outputs": []
    },
    {
      "cell_type": "code",
      "metadata": {
        "id": "yKYe8GCj1EbP",
        "colab_type": "code",
        "colab": {
          "base_uri": "https://localhost:8080/",
          "height": 68
        },
        "outputId": "c646a6a9-cf60-4c57-dee6-e0e1c3009a26"
      },
      "source": [
        "a = torch.rand(3,3)\n",
        "a"
      ],
      "execution_count": 6,
      "outputs": [
        {
          "output_type": "execute_result",
          "data": {
            "text/plain": [
              "tensor([[0.1006, 0.3451, 0.3625],\n",
              "        [0.1311, 0.0985, 0.1349],\n",
              "        [0.5481, 0.9585, 0.0467]])"
            ]
          },
          "metadata": {
            "tags": []
          },
          "execution_count": 6
        }
      ]
    },
    {
      "cell_type": "code",
      "metadata": {
        "id": "1AVxqopJ1NGX",
        "colab_type": "code",
        "colab": {
          "base_uri": "https://localhost:8080/",
          "height": 68
        },
        "outputId": "a85e0dea-5000-4f47-caa1-39f34a75f37d"
      },
      "source": [
        "b =  torch.rand(3,3).to(device)\n",
        "b"
      ],
      "execution_count": 7,
      "outputs": [
        {
          "output_type": "execute_result",
          "data": {
            "text/plain": [
              "tensor([[0.2338, 0.6566, 0.5571],\n",
              "        [0.4932, 0.7862, 0.2193],\n",
              "        [0.2321, 0.6282, 0.6057]], device='cuda:0')"
            ]
          },
          "metadata": {
            "tags": []
          },
          "execution_count": 7
        }
      ]
    },
    {
      "cell_type": "code",
      "metadata": {
        "id": "gf6ah-YW1Ylq",
        "colab_type": "code",
        "colab": {
          "base_uri": "https://localhost:8080/",
          "height": 68
        },
        "outputId": "322aa4c0-cb01-4bca-f375-7094ee6827a3"
      },
      "source": [
        "c = torch.rand(3,3).cuda()\n",
        "c"
      ],
      "execution_count": 9,
      "outputs": [
        {
          "output_type": "execute_result",
          "data": {
            "text/plain": [
              "tensor([[0.2029, 0.0409, 0.6625],\n",
              "        [0.3107, 0.6177, 0.8204],\n",
              "        [0.7061, 0.7032, 0.4082]], device='cuda:0')"
            ]
          },
          "metadata": {
            "tags": []
          },
          "execution_count": 9
        }
      ]
    },
    {
      "cell_type": "code",
      "metadata": {
        "id": "8BrNMvWJ48Rd",
        "colab_type": "code",
        "colab": {}
      },
      "source": [
        "import time"
      ],
      "execution_count": 0,
      "outputs": []
    },
    {
      "cell_type": "code",
      "metadata": {
        "id": "9R9pCz6W9U48",
        "colab_type": "code",
        "colab": {
          "base_uri": "https://localhost:8080/",
          "height": 51
        },
        "outputId": "0a96a5fc-2873-4140-bb22-4206df88a063"
      },
      "source": [
        "start = time.time()\n",
        "a = torch.ones(400,400)\n",
        "for _ in range (100000):\n",
        "  a += a\n",
        "duration = time.time() - start\n",
        "print(f'CPU time = {duration}')\n",
        "\n",
        "\n",
        "start = time.time()\n",
        "b = torch.ones(400,400).to(device)\n",
        "for _ in range (100000):\n",
        "  b += b\n",
        "duration = time.time() - start\n",
        "print(f'GPU time = {duration}')"
      ],
      "execution_count": 21,
      "outputs": [
        {
          "output_type": "stream",
          "text": [
            "CPU time = 4.287049770355225\n",
            "GPU time = 0.914215087890625\n"
          ],
          "name": "stdout"
        }
      ]
    }
  ]
}